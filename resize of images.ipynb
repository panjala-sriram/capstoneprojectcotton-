{
 "cells": [
  {
   "cell_type": "code",
   "execution_count": 3,
   "metadata": {},
   "outputs": [],
   "source": [
    "import glob\n",
    "import cv2\n",
    "import os\n",
    "import numpy as np\n",
    "\n",
    "dir_img = \"cotton_cotton/\"\n",
    "img_files = glob.glob(dir_img+\"*.jpg\")\n",
    "#directory = r'C:\\Users\\hp\\cotton project\\modified_images_128'\n",
    "for i in range(len(img_files)):\n",
    "    img_temp=cv2.imread(img_files[i], 1)\n",
    "    if(img_temp.shape!=(128,128,3)):\n",
    "        img_temp=cv2.resize(img_temp,(128,128))\n",
    "        print(img_temp.shape)\n",
    "        print(img_files[i])\n",
    "        status=cv2.imwrite(r'C:\\Users\\hp\\cotton project\\modified_images_128'+img_files[i], img_temp)\n",
    "        print(status)\n",
    "        \n",
    "    \n",
    "\n",
    "                        \n"
   ]
  },
  {
   "cell_type": "code",
   "execution_count": null,
   "metadata": {},
   "outputs": [],
   "source": []
  },
  {
   "cell_type": "code",
   "execution_count": null,
   "metadata": {},
   "outputs": [],
   "source": []
  },
  {
   "cell_type": "code",
   "execution_count": null,
   "metadata": {},
   "outputs": [],
   "source": []
  },
  {
   "cell_type": "code",
   "execution_count": null,
   "metadata": {},
   "outputs": [],
   "source": []
  }
 ],
 "metadata": {
  "kernelspec": {
   "display_name": "Python 3",
   "language": "python",
   "name": "python3"
  },
  "language_info": {
   "codemirror_mode": {
    "name": "ipython",
    "version": 3
   },
   "file_extension": ".py",
   "mimetype": "text/x-python",
   "name": "python",
   "nbconvert_exporter": "python",
   "pygments_lexer": "ipython3",
   "version": "3.7.4"
  }
 },
 "nbformat": 4,
 "nbformat_minor": 2
}
